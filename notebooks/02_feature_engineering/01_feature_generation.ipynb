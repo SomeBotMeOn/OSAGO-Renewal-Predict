{
 "cells": [
  {
   "metadata": {},
   "cell_type": "markdown",
   "source": "# Feature Generation",
   "id": "a5292272562e97ff"
  },
  {
   "cell_type": "code",
   "id": "initial_id",
   "metadata": {
    "collapsed": true,
    "ExecuteTime": {
     "end_time": "2025-04-03T12:17:58.415144Z",
     "start_time": "2025-04-03T12:17:56.366913Z"
    }
   },
   "source": [
    "import pandas as pd\n",
    "\n",
    "from src.data_utils.feature_generation import generate_arithmetic\n",
    "\n",
    "\n",
    "test_encoded = pd.read_csv('../../data/data_after_EDA/test_encoded.csv')\n",
    "train_encoded = pd.read_csv('../../data/data_after_EDA/train_encoded.csv')\n",
    "\n",
    "train_target = train_encoded['target']\n",
    "test_target = test_encoded['target']\n",
    "\n",
    "train_features = train_encoded.drop('target', axis=1)\n",
    "test_features = test_encoded.drop('target', axis=1)\n",
    "\n",
    "train_features = generate_arithmetic(train_features)\n",
    "test_features = generate_arithmetic(test_features)"
   ],
   "outputs": [],
   "execution_count": 1
  },
  {
   "metadata": {
    "ExecuteTime": {
     "end_time": "2025-04-03T12:17:59.550389Z",
     "start_time": "2025-04-03T12:17:58.421144Z"
    }
   },
   "cell_type": "code",
   "source": [
    "from sklearn.preprocessing import StandardScaler\n",
    "\n",
    "\n",
    "scaler = StandardScaler()\n",
    "train_scaled = scaler.fit_transform(train_features)\n",
    "test_scaled = scaler.transform(test_features)\n",
    "\n",
    "train_encoded = pd.DataFrame(train_scaled, columns=train_features.columns)\n",
    "test_encoded = pd.DataFrame(test_scaled, columns=test_features.columns)"
   ],
   "id": "c24234320009213b",
   "outputs": [],
   "execution_count": 2
  },
  {
   "metadata": {
    "ExecuteTime": {
     "end_time": "2025-04-03T12:18:28.239164Z",
     "start_time": "2025-04-03T12:17:59.829705Z"
    }
   },
   "cell_type": "code",
   "source": [
    "train_encoded['target'] = train_target\n",
    "test_encoded['target'] = test_target\n",
    "\n",
    "train_encoded.to_csv('../../data/data_after_Feature_Generation/train_encoded.csv', index=False)\n",
    "test_encoded.to_csv('../../data/data_after_Feature_Generation/test_encoded.csv', index=False)"
   ],
   "id": "537b3fbb22fd4f94",
   "outputs": [],
   "execution_count": 3
  }
 ],
 "metadata": {
  "kernelspec": {
   "display_name": "Python 3",
   "language": "python",
   "name": "python3"
  },
  "language_info": {
   "codemirror_mode": {
    "name": "ipython",
    "version": 2
   },
   "file_extension": ".py",
   "mimetype": "text/x-python",
   "name": "python",
   "nbconvert_exporter": "python",
   "pygments_lexer": "ipython2",
   "version": "2.7.6"
  }
 },
 "nbformat": 4,
 "nbformat_minor": 5
}
