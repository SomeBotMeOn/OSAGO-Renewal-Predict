{
 "cells": [
  {
   "metadata": {},
   "cell_type": "markdown",
   "source": "# Final Model - Bagging",
   "id": "5886bee899766461"
  },
  {
   "cell_type": "code",
   "id": "initial_id",
   "metadata": {
    "collapsed": true,
    "ExecuteTime": {
     "end_time": "2025-04-05T17:04:03.740370Z",
     "start_time": "2025-04-05T17:03:59.627051Z"
    }
   },
   "source": [
    "import pandas as pd\n",
    "\n",
    "from src.ml_models.ModelEvaluator.main.core import ModelEvaluator"
   ],
   "outputs": [],
   "execution_count": 1
  },
  {
   "metadata": {
    "ExecuteTime": {
     "end_time": "2025-04-05T17:04:03.817244Z",
     "start_time": "2025-04-05T17:04:03.746374Z"
    }
   },
   "cell_type": "code",
   "source": [
    "train_data = pd.read_csv(\n",
    "    '../../data/data_after_Feature_Selection/train_selected.csv')"
   ],
   "id": "b9a39354abaeab16",
   "outputs": [],
   "execution_count": 2
  },
  {
   "metadata": {
    "ExecuteTime": {
     "end_time": "2025-04-05T17:04:04.160292Z",
     "start_time": "2025-04-05T17:04:04.147593Z"
    }
   },
   "cell_type": "code",
   "source": "train_data.columns.tolist()",
   "id": "874fb0f663570ce9",
   "outputs": [
    {
     "data": {
      "text/plain": [
       "['married_encoded_addition_Filial_encoded',\n",
       " 'deduct_encoded_addition_GAP_encoded',\n",
       " 'passport_region_encoded_multiplication_price_prc',\n",
       " 'Model_encoded_div_Age',\n",
       " 'Filial_encoded_subtraction_product_encoded',\n",
       " 'product_encoded_subtraction_Bank_encoded',\n",
       " 'Yr_production_div_channel_map_encoded',\n",
       " 'KBM_multiplication_Bank_encoded',\n",
       " 'product_encoded_addition_passport_region_encoded',\n",
       " 'married_encoded_div_Yr_production',\n",
       " 'GAP_encoded_multiplication_deduct_encoded',\n",
       " 'product_encoded_div_Bank_encoded',\n",
       " 'Bank_encoded_div_KBM',\n",
       " 'sex_encoded_multiplication_Model_encoded',\n",
       " 'product_encoded_subtraction_category_encoded',\n",
       " 'Bank_encoded_addition_category_encoded',\n",
       " 'target']"
      ]
     },
     "execution_count": 3,
     "metadata": {},
     "output_type": "execute_result"
    }
   ],
   "execution_count": 3
  },
  {
   "metadata": {
    "ExecuteTime": {
     "end_time": "2025-04-05T07:58:15.250051Z",
     "start_time": "2025-04-05T07:58:15.238232Z"
    }
   },
   "cell_type": "code",
   "source": [
    "evaluator = ModelEvaluator(\n",
    "    data=train_data,\n",
    "    target_column='target',\n",
    "    random_state=42\n",
    ")"
   ],
   "id": "2037bea1630bfae8",
   "outputs": [],
   "execution_count": 3
  },
  {
   "metadata": {},
   "cell_type": "markdown",
   "source": "Сначала обучим и сохраним модели",
   "id": "57bd34f0f522e6f5"
  },
  {
   "metadata": {
    "ExecuteTime": {
     "end_time": "2025-04-05T07:50:48.538286Z",
     "start_time": "2025-04-05T07:49:16.588181Z"
    }
   },
   "cell_type": "code",
   "source": [
    "selected_models = {\n",
    "    'CatBoost': {\n",
    "        'learning_rate': 0.0851566874626512, \n",
    "        'depth': 3, \n",
    "        'colsample_bylevel': 0.48339093875772815, \n",
    "        'min_data_in_leaf': 7,\n",
    "        'random_state': 42,\n",
    "        'silent': True,\n",
    "    },\n",
    "    'LightGBM': {\n",
    "        'colsample_bytree': 0.635620847700586,\n",
    "        'learning_rate': 0.09992680992860382, \n",
    "        'max_depth': 12,\n",
    "        'min_child_samples': 62, \n",
    "        'num_leaves': 26,\n",
    "        'reg_alpha': 1.9573787238525447e-06, \n",
    "        'reg_lambda': 28.86756580350252,\n",
    "        'subsample': 0.531252364023648,\n",
    "        'random_state': 42,\n",
    "        'verbosity': -1,\n",
    "    },\n",
    "    'LogisticRegression': {\n",
    "        'C': 0.765634018137759,\n",
    "        'fit_intercept': False,\n",
    "        'penalty': 'l1',\n",
    "        'solver': 'liblinear',\n",
    "        'tol': 0.00015253936476579682,\n",
    "        'random_state': 42\n",
    "    },\n",
    "    'RandomForest': {\n",
    "        'max_depth': 48,\n",
    "        'max_features': None,\n",
    "        'min_samples_leaf': 4,\n",
    "        'min_samples_split': 5,\n",
    "        'n_estimators': 459,\n",
    "        'random_state': 42\n",
    "    }\n",
    "}\n",
    "\n",
    "evaluator.evaluate_models(\n",
    "    cv_method='Stratified',\n",
    "    selected_models=selected_models,\n",
    "    save_models_to='../../models/02_ensemble_models/'\n",
    ")"
   ],
   "id": "8dd6f4be61736541",
   "outputs": [
    {
     "name": "stdout",
     "output_type": "stream",
     "text": [
      "------------------------------------------------------------------------\n",
      "                 Проверка общих конфликтов и ошибок...                  \n",
      "                                Успешно!                                \n",
      "------------------------------------------------------------------------\n",
      "\n",
      "------------------------------------------------------------------------\n",
      "I Метод кросс-валидации: Stratified: default\n",
      "------------------------------------------------------------------------\n",
      "II Используемые модели:\n",
      "CatBoost: {'learning_rate': 0.0851566874626512, 'depth': 3, 'colsample_bylevel': 0.48339093875772815, 'min_data_in_leaf': 7, 'random_state': 42, 'silent': True}\n",
      "LightGBM: {'colsample_bytree': 0.635620847700586, 'learning_rate': 0.09992680992860382, 'max_depth': 12, 'min_child_samples': 62, 'num_leaves': 26, 'reg_alpha': 1.9573787238525447e-06, 'reg_lambda': 28.86756580350252, 'subsample': 0.531252364023648, 'random_state': 42, 'verbosity': -1}\n",
      "LogisticRegression: {'C': 0.765634018137759, 'fit_intercept': False, 'penalty': 'l1', 'solver': 'liblinear', 'tol': 0.00015253936476579682, 'random_state': 42}\n",
      "RandomForest: {'max_depth': 48, 'max_features': None, 'min_samples_leaf': 4, 'min_samples_split': 5, 'n_estimators': 459, 'random_state': 42}\n",
      "------------------------------------------------------------------------\n"
     ]
    },
    {
     "name": "stderr",
     "output_type": "stream",
     "text": [
      "III обучение моделей:   0%|          | 0/4 [00:00<?, ?model/s]"
     ]
    },
    {
     "name": "stdout",
     "output_type": "stream",
     "text": [
      "Обучение модели CatBoost с параметрами: {'learning_rate': 0.0851566874626512, 'depth': 3, 'colsample_bylevel': 0.48339093875772815, 'min_data_in_leaf': 7, 'random_state': 42, 'silent': True}...\n"
     ]
    },
    {
     "name": "stderr",
     "output_type": "stream",
     "text": [
      "III обучение моделей:  25%|██▌       | 1/4 [00:13<00:39, 13.18s/model]"
     ]
    },
    {
     "name": "stdout",
     "output_type": "stream",
     "text": [
      "Среднее значение метрики: 0.62, Минимальное значение: 0.61, Максимальное значение: 0.62, Стандартное отклонение: 0.01\n",
      "CatBoost успешно сохранена в: ../../models/02_final_models/\n",
      "------------------------------------------------------------------------\n",
      "Обучение модели LightGBM с параметрами: {'colsample_bytree': 0.635620847700586, 'learning_rate': 0.09992680992860382, 'max_depth': 12, 'min_child_samples': 62, 'num_leaves': 26, 'reg_alpha': 1.9573787238525447e-06, 'reg_lambda': 28.86756580350252, 'subsample': 0.531252364023648, 'random_state': 42, 'verbosity': -1}...\n"
     ]
    },
    {
     "name": "stderr",
     "output_type": "stream",
     "text": [
      "III обучение моделей:  50%|█████     | 2/4 [00:13<00:11,  5.83s/model]"
     ]
    },
    {
     "name": "stdout",
     "output_type": "stream",
     "text": [
      "Среднее значение метрики: 0.62, Минимальное значение: 0.61, Максимальное значение: 0.63, Стандартное отклонение: 0.01\n",
      "LightGBM успешно сохранена в: ../../models/02_final_models/\n",
      "------------------------------------------------------------------------\n",
      "Обучение модели LogisticRegression с параметрами: {'C': 0.765634018137759, 'fit_intercept': False, 'penalty': 'l1', 'solver': 'liblinear', 'tol': 0.00015253936476579682, 'random_state': 42}...\n"
     ]
    },
    {
     "name": "stderr",
     "output_type": "stream",
     "text": [
      "III обучение моделей:  75%|███████▌  | 3/4 [00:14<00:03,  3.51s/model]"
     ]
    },
    {
     "name": "stdout",
     "output_type": "stream",
     "text": [
      "Среднее значение метрики: 0.68, Минимальное значение: 0.64, Максимальное значение: 0.7, Стандартное отклонение: 0.02\n",
      "LogisticRegression успешно сохранена в: ../../models/02_final_models/\n",
      "------------------------------------------------------------------------\n",
      "Обучение модели RandomForest с параметрами: {'max_depth': 48, 'max_features': None, 'min_samples_leaf': 4, 'min_samples_split': 5, 'n_estimators': 459, 'random_state': 42}...\n"
     ]
    },
    {
     "name": "stderr",
     "output_type": "stream",
     "text": [
      "III обучение моделей: 100%|██████████| 4/4 [01:31<00:00, 22.98s/model]"
     ]
    },
    {
     "name": "stdout",
     "output_type": "stream",
     "text": [
      "Среднее значение метрики: 0.61, Минимальное значение: 0.6, Максимальное значение: 0.62, Стандартное отклонение: 0.01\n",
      "RandomForest успешно сохранена в: ../../models/02_final_models/\n",
      "------------------------------------------------------------------------\n",
      "\n",
      "------------------------------------------------------------------------\n",
      "                  Итоговые результаты ансамблирования                   \n",
      "------------------------------------------------------------------------\n",
      "\n"
     ]
    },
    {
     "name": "stderr",
     "output_type": "stream",
     "text": [
      "\n"
     ]
    },
    {
     "data": {
      "text/plain": [
       "                Model  Avg_Score  Min_Score  Max_Score  Std_Score\n",
       "0            CatBoost       0.62       0.61       0.62       0.01\n",
       "1            LightGBM       0.62       0.61       0.63       0.01\n",
       "2  LogisticRegression       0.68       0.64       0.70       0.02\n",
       "3        RandomForest       0.61       0.60       0.62       0.01"
      ],
      "text/html": [
       "<div>\n",
       "<style scoped>\n",
       "    .dataframe tbody tr th:only-of-type {\n",
       "        vertical-align: middle;\n",
       "    }\n",
       "\n",
       "    .dataframe tbody tr th {\n",
       "        vertical-align: top;\n",
       "    }\n",
       "\n",
       "    .dataframe thead th {\n",
       "        text-align: right;\n",
       "    }\n",
       "</style>\n",
       "<table border=\"1\" class=\"dataframe\">\n",
       "  <thead>\n",
       "    <tr style=\"text-align: right;\">\n",
       "      <th></th>\n",
       "      <th>Model</th>\n",
       "      <th>Avg_Score</th>\n",
       "      <th>Min_Score</th>\n",
       "      <th>Max_Score</th>\n",
       "      <th>Std_Score</th>\n",
       "    </tr>\n",
       "  </thead>\n",
       "  <tbody>\n",
       "    <tr>\n",
       "      <th>0</th>\n",
       "      <td>CatBoost</td>\n",
       "      <td>0.62</td>\n",
       "      <td>0.61</td>\n",
       "      <td>0.62</td>\n",
       "      <td>0.01</td>\n",
       "    </tr>\n",
       "    <tr>\n",
       "      <th>1</th>\n",
       "      <td>LightGBM</td>\n",
       "      <td>0.62</td>\n",
       "      <td>0.61</td>\n",
       "      <td>0.63</td>\n",
       "      <td>0.01</td>\n",
       "    </tr>\n",
       "    <tr>\n",
       "      <th>2</th>\n",
       "      <td>LogisticRegression</td>\n",
       "      <td>0.68</td>\n",
       "      <td>0.64</td>\n",
       "      <td>0.70</td>\n",
       "      <td>0.02</td>\n",
       "    </tr>\n",
       "    <tr>\n",
       "      <th>3</th>\n",
       "      <td>RandomForest</td>\n",
       "      <td>0.61</td>\n",
       "      <td>0.60</td>\n",
       "      <td>0.62</td>\n",
       "      <td>0.01</td>\n",
       "    </tr>\n",
       "  </tbody>\n",
       "</table>\n",
       "</div>"
      ]
     },
     "execution_count": 10,
     "metadata": {},
     "output_type": "execute_result"
    }
   ],
   "execution_count": 10
  },
  {
   "metadata": {},
   "cell_type": "markdown",
   "source": "Теперь создадим ансамбль моделей с помощью бэггинга",
   "id": "a18e6f931104cf2c"
  },
  {
   "metadata": {
    "ExecuteTime": {
     "end_time": "2025-04-05T08:16:18.583524Z",
     "start_time": "2025-04-05T08:16:17.949627Z"
    }
   },
   "cell_type": "code",
   "source": [
    "import numpy as np\n",
    "import pandas as pd\n",
    "from catboost import CatBoostClassifier\n",
    "import joblib\n",
    "from sklearn.metrics import (\n",
    "    balanced_accuracy_score,\n",
    "    accuracy_score,\n",
    "    roc_auc_score,\n",
    "    f1_score,\n",
    "    precision_score,\n",
    "    recall_score,\n",
    "    classification_report\n",
    ")\n",
    "from scipy.stats import mode\n",
    "\n",
    "\n",
    "model_paths = {\n",
    "    'CatBoost': '../../models/02_ensemble_models/CatBoost.cbm',\n",
    "    'LightGBM': '../../models/02_ensemble_models/LightGBM.pkl',\n",
    "    'LogisticRegression': '../../models/02_ensemble_models/LogisticRegression.pkl',\n",
    "    'RandomForest': '../../models/02_ensemble_models/RandomForest.pkl'\n",
    "}\n",
    "\n",
    "data = pd.read_csv(\"../../data/data_after_Feature_Selection/test_selected.csv\")\n",
    "X_test = data.drop(columns=['target'])\n",
    "y_test = data['target']\n",
    "\n",
    "models = {}\n",
    "models['CatBoost'] = CatBoostClassifier().load_model(model_paths['CatBoost'])\n",
    "for name in ['LightGBM', 'LogisticRegression', 'RandomForest']:\n",
    "    with open(model_paths[name], 'rb') as f:\n",
    "        models[name] = joblib.load(f)\n",
    "\n",
    "all_preds = []\n",
    "all_probas = []\n",
    "\n",
    "for model_name, model in models.items():\n",
    "    pred = model.predict(X_test)\n",
    "    all_preds.append(pred)\n",
    "    \n",
    "    if hasattr(model, 'predict_proba'):\n",
    "        proba = model.predict_proba(X_test)[:, 1]\n",
    "        all_probas.append(proba)\n",
    "\n",
    "mode_result = mode(np.array(all_preds), axis=0)\n",
    "final_pred = mode_result.mode.squeeze()\n",
    "\n",
    "final_proba = np.mean(all_probas, axis=0) if all_probas else None\n",
    "\n",
    "metrics = {\n",
    "    'Balanced Accuracy': balanced_accuracy_score(y_test, final_pred),\n",
    "    'Accuracy': accuracy_score(y_test, final_pred),\n",
    "    'F1 Score': f1_score(y_test, final_pred),\n",
    "    'Precision': precision_score(y_test, final_pred),\n",
    "    'Recall': recall_score(y_test, final_pred)\n",
    "}\n",
    "\n",
    "if final_proba is not None:\n",
    "    metrics['ROC AUC'] = roc_auc_score(y_test, final_proba)\n",
    "\n",
    "print(\"Метрики ансамбля:\")\n",
    "for name, value in metrics.items():\n",
    "    print(f\"{name}: {value:.4f}\")\n",
    "\n",
    "print(\"\\nClassification Report:\")\n",
    "print(classification_report(y_test, final_pred))"
   ],
   "id": "3d7c2172ef99360f",
   "outputs": [
    {
     "name": "stdout",
     "output_type": "stream",
     "text": [
      "Метрики ансамбля:\n",
      "Balanced Accuracy: 0.6371\n",
      "Accuracy: 0.7242\n",
      "F1 Score: 0.4781\n",
      "Precision: 0.5706\n",
      "Recall: 0.4115\n",
      "ROC AUC: 0.7537\n",
      "\n",
      "Classification Report:\n",
      "              precision    recall  f1-score   support\n",
      "\n",
      "           0       0.77      0.86      0.81       510\n",
      "           1       0.57      0.41      0.48       226\n",
      "\n",
      "    accuracy                           0.72       736\n",
      "   macro avg       0.67      0.64      0.65       736\n",
      "weighted avg       0.71      0.72      0.71       736\n",
      "\n"
     ]
    }
   ],
   "execution_count": 12
  },
  {
   "metadata": {},
   "cell_type": "markdown",
   "source": "Видим, что у итогового ансамбля метрики ниже, чем у логистической регрессии в отдельности, попробуем применить ее",
   "id": "e7538a79cf560b30"
  },
  {
   "metadata": {
    "ExecuteTime": {
     "end_time": "2025-04-05T08:21:09.747307Z",
     "start_time": "2025-04-05T08:21:09.705831Z"
    }
   },
   "cell_type": "code",
   "source": [
    "model_path = '../../models/02_ensemble_models/LogisticRegression.pkl'\n",
    "\n",
    "data = pd.read_csv(\"../../data/data_after_Feature_Selection/test_selected.csv\")\n",
    "X_test = data.drop(columns=['target'])\n",
    "y_test = data['target']\n",
    "\n",
    "with open(model_path, 'rb') as f:\n",
    "    model = joblib.load(f)\n",
    "\n",
    "final_pred = model.predict(X_test)\n",
    "final_proba = model.predict_proba(X_test)[:, 1]\n",
    "\n",
    "metrics = {\n",
    "    'Balanced Accuracy': balanced_accuracy_score(y_test, final_pred),\n",
    "    'Accuracy': accuracy_score(y_test, final_pred),\n",
    "    'F1 Score': f1_score(y_test, final_pred),\n",
    "    'Precision': precision_score(y_test, final_pred),\n",
    "    'Recall': recall_score(y_test, final_pred)\n",
    "}\n",
    "\n",
    "if final_proba is not None:\n",
    "    metrics['ROC AUC'] = roc_auc_score(y_test, final_proba)\n",
    "\n",
    "print(\"Метрики логистической регрессии:\")\n",
    "for name, value in metrics.items():\n",
    "    print(f\"{name}: {value:.4f}\")\n",
    "\n",
    "print(\"\\nClassification Report:\")\n",
    "print(classification_report(y_test, final_pred))"
   ],
   "id": "93119683678fb0ee",
   "outputs": [
    {
     "name": "stdout",
     "output_type": "stream",
     "text": [
      "Метрики логистической регрессии:\n",
      "Balanced Accuracy: 0.6794\n",
      "Accuracy: 0.6821\n",
      "F1 Score: 0.5651\n",
      "Precision: 0.4872\n",
      "Recall: 0.6726\n",
      "ROC AUC: 0.7393\n",
      "\n",
      "Classification Report:\n",
      "              precision    recall  f1-score   support\n",
      "\n",
      "           0       0.83      0.69      0.75       510\n",
      "           1       0.49      0.67      0.57       226\n",
      "\n",
      "    accuracy                           0.68       736\n",
      "   macro avg       0.66      0.68      0.66       736\n",
      "weighted avg       0.72      0.68      0.69       736\n",
      "\n"
     ]
    }
   ],
   "execution_count": 14
  },
  {
   "metadata": {},
   "cell_type": "markdown",
   "source": "Видим, что логистическая регрессия показала метрики balanced accuracy и F1 score выше, поэтому ее будем использовать в качестве финальной модели",
   "id": "42be8bdc9f4e71b2"
  }
 ],
 "metadata": {
  "kernelspec": {
   "display_name": "Python 3",
   "language": "python",
   "name": "python3"
  },
  "language_info": {
   "codemirror_mode": {
    "name": "ipython",
    "version": 2
   },
   "file_extension": ".py",
   "mimetype": "text/x-python",
   "name": "python",
   "nbconvert_exporter": "python",
   "pygments_lexer": "ipython2",
   "version": "2.7.6"
  }
 },
 "nbformat": 4,
 "nbformat_minor": 5
}
