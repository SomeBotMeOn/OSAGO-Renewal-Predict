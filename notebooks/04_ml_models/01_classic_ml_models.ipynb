{
 "cells": [
  {
   "metadata": {},
   "cell_type": "markdown",
   "source": "# Classic ML ModelsС",
   "id": "b889305c1ffbfeb4"
  },
  {
   "metadata": {},
   "cell_type": "markdown",
   "source": "Сначала посмотрим на распределение target в train_data",
   "id": "906ec055db98de82"
  },
  {
   "metadata": {
    "ExecuteTime": {
     "end_time": "2025-04-04T17:24:16.023785Z",
     "start_time": "2025-04-04T17:24:15.824214Z"
    }
   },
   "cell_type": "code",
   "source": [
    "import pandas as pd\n",
    "import matplotlib.pyplot as plt\n",
    "import seaborn as sns\n",
    "from catboost import CatBoostClassifier\n",
    "\n",
    "train_data = pd.read_csv(\n",
    "    '../../data/data_after_Feature_Selection/train_selected.csv')\n",
    "\n",
    "sns.histplot(train_data['target'], bins=50)\n",
    "plt.grid()\n",
    "plt.show()"
   ],
   "id": "41d52374c2fa6431",
   "outputs": [
    {
     "data": {
      "text/plain": [
       "<Figure size 640x480 with 1 Axes>"
      ],
      "image/png": "[encoded data removed]"
     },
     "metadata": {},
     "output_type": "display_data"
    }
   ],
   "execution_count": 27
  },
  {
   "metadata": {},
   "cell_type": "markdown",
   "source": "Видим неравномерное распределение классов. Поэтому будем использовать метрику balanced accuracy, а разделение на train и test сделаем с помощью StratifiedKFold.",
   "id": "387e57a0efb9d5d0"
  },
  {
   "cell_type": "code",
   "id": "initial_id",
   "metadata": {
    "collapsed": true,
    "ExecuteTime": {
     "end_time": "2025-04-04T17:09:43.330878Z",
     "start_time": "2025-04-04T17:09:43.326265Z"
    }
   },
   "source": [
    "import pandas as pd\n",
    "\n",
    "from src.ml_models.ModelEvaluator.main.core import ModelEvaluator"
   ],
   "outputs": [],
   "execution_count": 2
  },
  {
   "metadata": {
    "ExecuteTime": {
     "end_time": "2025-04-04T17:09:43.565455Z",
     "start_time": "2025-04-04T17:09:43.516925Z"
    }
   },
   "cell_type": "code",
   "source": [
    "train_data = pd.read_csv(\n",
    "    '../../data/data_after_Feature_Selection/train_selected.csv')"
   ],
   "id": "4affe7c197cb6b12",
   "outputs": [],
   "execution_count": 3
  },
  {
   "metadata": {
    "ExecuteTime": {
     "end_time": "2025-04-04T17:09:43.735301Z",
     "start_time": "2025-04-04T17:09:43.719293Z"
    }
   },
   "cell_type": "code",
   "source": [
    "evaluator = ModelEvaluator(\n",
    "    data=train_data,\n",
    "    target_column='target',\n",
    "    random_state=42\n",
    ")"
   ],
   "id": "b4b45238dbcb053c",
   "outputs": [],
   "execution_count": 4
  },
  {
   "metadata": {
    "ExecuteTime": {
     "end_time": "2025-04-04T17:25:53.903100Z",
     "start_time": "2025-04-04T17:25:01.763907Z"
    }
   },
   "cell_type": "code",
   "source": [
    "custom_params = {\n",
    "    'CatBoost': {'silent': True, 'random_seed': 42},\n",
    "    'XGBoost': {'verbosity': 0, 'random_state': 42},\n",
    "    'LightGBM': {'verbosity': -1, 'random_state': 42},\n",
    "}\n",
    "\n",
    "classic_ml_models_results = evaluator.evaluate_models(\n",
    "    custom_params=custom_params,\n",
    "    save_models_to='../../models/01_classic_ml_models',\n",
    "    cv_method='Stratified'\n",
    ")\n",
    "\n",
    "classic_ml_models_results"
   ],
   "id": "23b129ab60481b4e",
   "outputs": [
    {
     "name": "stdout",
     "output_type": "stream",
     "text": [
      "------------------------------------------------------------------------\n",
      "                 Проверка общих конфликтов и ошибок...                  \n",
      "                                Успешно!                                \n",
      "------------------------------------------------------------------------\n",
      "\n",
      "------------------------------------------------------------------------\n",
      "I Метод кросс-валидации: Stratified: default\n",
      "------------------------------------------------------------------------\n",
      "II Используемые модели:\n",
      "CatBoost: {'silent': True, 'random_seed': 42}\n",
      "XGBoost: {'verbosity': 0, 'random_state': 42}\n",
      "LightGBM: {'verbosity': -1, 'random_state': 42}\n",
      "LogisticRegression: {'random_state': 42}\n",
      "RandomForest: {'random_state': 42}\n",
      "DecisionTree: {'random_state': 42}\n",
      "KNeighbors: default\n",
      "SVC: {'random_state': 42}\n",
      "GradientBoosting: {'random_state': 42}\n",
      "AdaBoost: {'random_state': 42}\n",
      "GaussianNB: default\n",
      "LDA: default\n",
      "ExtraTrees: {'random_state': 42}\n",
      "------------------------------------------------------------------------\n"
     ]
    },
    {
     "name": "stderr",
     "output_type": "stream",
     "text": [
      "III обучение моделей:   0%|          | 0/13 [00:00<?, ?model/s]"
     ]
    },
    {
     "name": "stdout",
     "output_type": "stream",
     "text": [
      "Обучение модели CatBoost с параметрами: {'silent': True, 'random_seed': 42}...\n"
     ]
    },
    {
     "name": "stderr",
     "output_type": "stream",
     "text": [
      "III обучение моделей:   8%|▊         | 1/13 [00:20<04:03, 20.32s/model]"
     ]
    },
    {
     "name": "stdout",
     "output_type": "stream",
     "text": [
      "Среднее значение метрики: 0.61, Минимальное значение: 0.6, Максимальное значение: 0.61, Стандартное отклонение: 0.0\n",
      "CatBoost успешно сохранена в: ../../models/01_classic_ml_models\n",
      "------------------------------------------------------------------------\n",
      "Обучение модели XGBoost с параметрами: {'verbosity': 0, 'random_state': 42}...\n"
     ]
    },
    {
     "name": "stderr",
     "output_type": "stream",
     "text": [
      "III обучение моделей:  15%|█▌        | 2/13 [00:20<01:34,  8.58s/model]"
     ]
    },
    {
     "name": "stdout",
     "output_type": "stream",
     "text": [
      "Среднее значение метрики: 0.6, Минимальное значение: 0.58, Максимальное значение: 0.63, Стандартное отклонение: 0.01\n",
      "XGBoost успешно сохранена в: ../../models/01_classic_ml_models\n",
      "------------------------------------------------------------------------\n",
      "Обучение модели LightGBM с параметрами: {'verbosity': -1, 'random_state': 42}...\n"
     ]
    },
    {
     "name": "stderr",
     "output_type": "stream",
     "text": [
      "III обучение моделей:  23%|██▎       | 3/13 [00:21<00:49,  4.95s/model]"
     ]
    },
    {
     "name": "stdout",
     "output_type": "stream",
     "text": [
      "Среднее значение метрики: 0.61, Минимальное значение: 0.6, Максимальное значение: 0.62, Стандартное отклонение: 0.01\n",
      "LightGBM успешно сохранена в: ../../models/01_classic_ml_models\n",
      "------------------------------------------------------------------------\n",
      "Обучение модели LogisticRegression с параметрами: {'random_state': 42}...\n"
     ]
    },
    {
     "name": "stderr",
     "output_type": "stream",
     "text": [
      "III обучение моделей:  31%|███       | 4/13 [00:21<00:27,  3.08s/model]"
     ]
    },
    {
     "name": "stdout",
     "output_type": "stream",
     "text": [
      "Среднее значение метрики: 0.61, Минимальное значение: 0.6, Максимальное значение: 0.62, Стандартное отклонение: 0.01\n",
      "LogisticRegression успешно сохранена в: ../../models/01_classic_ml_models\n",
      "------------------------------------------------------------------------\n",
      "Обучение модели RandomForest с параметрами: {'random_state': 42}...\n"
     ]
    },
    {
     "name": "stderr",
     "output_type": "stream",
     "text": [
      "III обучение моделей:  38%|███▊      | 5/13 [00:27<00:33,  4.13s/model]"
     ]
    },
    {
     "name": "stdout",
     "output_type": "stream",
     "text": [
      "Среднее значение метрики: 0.61, Минимальное значение: 0.6, Максимальное значение: 0.62, Стандартное отклонение: 0.01\n",
      "RandomForest успешно сохранена в: ../../models/01_classic_ml_models\n",
      "------------------------------------------------------------------------\n",
      "Обучение модели DecisionTree с параметрами: {'random_state': 42}...\n"
     ]
    },
    {
     "name": "stderr",
     "output_type": "stream",
     "text": [
      "III обучение моделей:  46%|████▌     | 6/13 [00:27<00:20,  2.86s/model]"
     ]
    },
    {
     "name": "stdout",
     "output_type": "stream",
     "text": [
      "Среднее значение метрики: 0.59, Минимальное значение: 0.58, Максимальное значение: 0.62, Стандартное отклонение: 0.01\n",
      "DecisionTree успешно сохранена в: ../../models/01_classic_ml_models\n",
      "------------------------------------------------------------------------\n",
      "Обучение модели KNeighbors с параметрами: default...\n"
     ]
    },
    {
     "name": "stderr",
     "output_type": "stream",
     "text": [
      "III обучение моделей:  54%|█████▍    | 7/13 [00:28<00:12,  2.09s/model]"
     ]
    },
    {
     "name": "stdout",
     "output_type": "stream",
     "text": [
      "Среднее значение метрики: 0.61, Минимальное значение: 0.6, Максимальное значение: 0.63, Стандартное отклонение: 0.01\n",
      "KNeighbors успешно сохранена в: ../../models/01_classic_ml_models\n",
      "------------------------------------------------------------------------\n",
      "Обучение модели SVC с параметрами: {'random_state': 42}...\n"
     ]
    },
    {
     "name": "stderr",
     "output_type": "stream",
     "text": [
      "III обучение моделей:  62%|██████▏   | 8/13 [00:36<00:20,  4.09s/model]"
     ]
    },
    {
     "name": "stdout",
     "output_type": "stream",
     "text": [
      "Среднее значение метрики: 0.61, Минимальное значение: 0.59, Максимальное значение: 0.62, Стандартное отклонение: 0.01\n",
      "SVC успешно сохранена в: ../../models/01_classic_ml_models\n",
      "------------------------------------------------------------------------\n",
      "Обучение модели GradientBoosting с параметрами: {'random_state': 42}...\n"
     ]
    },
    {
     "name": "stderr",
     "output_type": "stream",
     "text": [
      "III обучение моделей:  69%|██████▉   | 9/13 [00:46<00:22,  5.70s/model]"
     ]
    },
    {
     "name": "stdout",
     "output_type": "stream",
     "text": [
      "Среднее значение метрики: 0.62, Минимальное значение: 0.62, Максимальное значение: 0.62, Стандартное отклонение: 0.0\n",
      "GradientBoosting успешно сохранена в: ../../models/01_classic_ml_models\n",
      "------------------------------------------------------------------------\n",
      "Обучение модели AdaBoost с параметрами: {'random_state': 42}...\n"
     ]
    },
    {
     "name": "stderr",
     "output_type": "stream",
     "text": [
      "III обучение моделей:  85%|████████▍ | 11/13 [00:48<00:06,  3.23s/model]"
     ]
    },
    {
     "name": "stdout",
     "output_type": "stream",
     "text": [
      "Среднее значение метрики: 0.6, Минимальное значение: 0.59, Максимальное значение: 0.61, Стандартное отклонение: 0.0\n",
      "AdaBoost успешно сохранена в: ../../models/01_classic_ml_models\n",
      "------------------------------------------------------------------------\n",
      "Обучение модели GaussianNB с параметрами: default...\n",
      "Среднее значение метрики: 0.64, Минимальное значение: 0.63, Максимальное значение: 0.66, Стандартное отклонение: 0.01\n",
      "GaussianNB успешно сохранена в: ../../models/01_classic_ml_models\n",
      "------------------------------------------------------------------------\n",
      "Обучение модели LDA с параметрами: default...\n"
     ]
    },
    {
     "name": "stderr",
     "output_type": "stream",
     "text": [
      "III обучение моделей:  92%|█████████▏| 12/13 [00:48<00:02,  2.30s/model]"
     ]
    },
    {
     "name": "stdout",
     "output_type": "stream",
     "text": [
      "Среднее значение метрики: 0.61, Минимальное значение: 0.6, Максимальное значение: 0.62, Стандартное отклонение: 0.01\n",
      "LDA успешно сохранена в: ../../models/01_classic_ml_models\n",
      "------------------------------------------------------------------------\n",
      "Обучение модели ExtraTrees с параметрами: {'random_state': 42}...\n"
     ]
    },
    {
     "name": "stderr",
     "output_type": "stream",
     "text": [
      "III обучение моделей: 100%|██████████| 13/13 [00:52<00:00,  4.01s/model]"
     ]
    },
    {
     "name": "stdout",
     "output_type": "stream",
     "text": [
      "Среднее значение метрики: 0.61, Минимальное значение: 0.59, Максимальное значение: 0.62, Стандартное отклонение: 0.01\n",
      "ExtraTrees успешно сохранена в: ../../models/01_classic_ml_models\n",
      "------------------------------------------------------------------------\n",
      "\n",
      "------------------------------------------------------------------------\n",
      "                  Итоговые результаты ансамблирования                   \n",
      "------------------------------------------------------------------------\n",
      "\n"
     ]
    },
    {
     "name": "stderr",
     "output_type": "stream",
     "text": [
      "\n"
     ]
    },
    {
     "data": {
      "text/plain": [
       "                 Model  Avg_Score  Min_Score  Max_Score  Std_Score\n",
       "0             CatBoost       0.61       0.60       0.61       0.00\n",
       "1              XGBoost       0.60       0.58       0.63       0.01\n",
       "2             LightGBM       0.61       0.60       0.62       0.01\n",
       "3   LogisticRegression       0.61       0.60       0.62       0.01\n",
       "4         RandomForest       0.61       0.60       0.62       0.01\n",
       "5         DecisionTree       0.59       0.58       0.62       0.01\n",
       "6           KNeighbors       0.61       0.60       0.63       0.01\n",
       "7                  SVC       0.61       0.59       0.62       0.01\n",
       "8     GradientBoosting       0.62       0.62       0.62       0.00\n",
       "9             AdaBoost       0.60       0.59       0.61       0.00\n",
       "10          GaussianNB       0.64       0.63       0.66       0.01\n",
       "11                 LDA       0.61       0.60       0.62       0.01\n",
       "12          ExtraTrees       0.61       0.59       0.62       0.01"
      ],
      "text/html": [
       "<div>\n",
       "<style scoped>\n",
       "    .dataframe tbody tr th:only-of-type {\n",
       "        vertical-align: middle;\n",
       "    }\n",
       "\n",
       "    .dataframe tbody tr th {\n",
       "        vertical-align: top;\n",
       "    }\n",
       "\n",
       "    .dataframe thead th {\n",
       "        text-align: right;\n",
       "    }\n",
       "</style>\n",
       "<table border=\"1\" class=\"dataframe\">\n",
       "  <thead>\n",
       "    <tr style=\"text-align: right;\">\n",
       "      <th></th>\n",
       "      <th>Model</th>\n",
       "      <th>Avg_Score</th>\n",
       "      <th>Min_Score</th>\n",
       "      <th>Max_Score</th>\n",
       "      <th>Std_Score</th>\n",
       "    </tr>\n",
       "  </thead>\n",
       "  <tbody>\n",
       "    <tr>\n",
       "      <th>0</th>\n",
       "      <td>CatBoost</td>\n",
       "      <td>0.61</td>\n",
       "      <td>0.60</td>\n",
       "      <td>0.61</td>\n",
       "      <td>0.00</td>\n",
       "    </tr>\n",
       "    <tr>\n",
       "      <th>1</th>\n",
       "      <td>XGBoost</td>\n",
       "      <td>0.60</td>\n",
       "      <td>0.58</td>\n",
       "      <td>0.63</td>\n",
       "      <td>0.01</td>\n",
       "    </tr>\n",
       "    <tr>\n",
       "      <th>2</th>\n",
       "      <td>LightGBM</td>\n",
       "      <td>0.61</td>\n",
       "      <td>0.60</td>\n",
       "      <td>0.62</td>\n",
       "      <td>0.01</td>\n",
       "    </tr>\n",
       "    <tr>\n",
       "      <th>3</th>\n",
       "      <td>LogisticRegression</td>\n",
       "      <td>0.61</td>\n",
       "      <td>0.60</td>\n",
       "      <td>0.62</td>\n",
       "      <td>0.01</td>\n",
       "    </tr>\n",
       "    <tr>\n",
       "      <th>4</th>\n",
       "      <td>RandomForest</td>\n",
       "      <td>0.61</td>\n",
       "      <td>0.60</td>\n",
       "      <td>0.62</td>\n",
       "      <td>0.01</td>\n",
       "    </tr>\n",
       "    <tr>\n",
       "      <th>5</th>\n",
       "      <td>DecisionTree</td>\n",
       "      <td>0.59</td>\n",
       "      <td>0.58</td>\n",
       "      <td>0.62</td>\n",
       "      <td>0.01</td>\n",
       "    </tr>\n",
       "    <tr>\n",
       "      <th>6</th>\n",
       "      <td>KNeighbors</td>\n",
       "      <td>0.61</td>\n",
       "      <td>0.60</td>\n",
       "      <td>0.63</td>\n",
       "      <td>0.01</td>\n",
       "    </tr>\n",
       "    <tr>\n",
       "      <th>7</th>\n",
       "      <td>SVC</td>\n",
       "      <td>0.61</td>\n",
       "      <td>0.59</td>\n",
       "      <td>0.62</td>\n",
       "      <td>0.01</td>\n",
       "    </tr>\n",
       "    <tr>\n",
       "      <th>8</th>\n",
       "      <td>GradientBoosting</td>\n",
       "      <td>0.62</td>\n",
       "      <td>0.62</td>\n",
       "      <td>0.62</td>\n",
       "      <td>0.00</td>\n",
       "    </tr>\n",
       "    <tr>\n",
       "      <th>9</th>\n",
       "      <td>AdaBoost</td>\n",
       "      <td>0.60</td>\n",
       "      <td>0.59</td>\n",
       "      <td>0.61</td>\n",
       "      <td>0.00</td>\n",
       "    </tr>\n",
       "    <tr>\n",
       "      <th>10</th>\n",
       "      <td>GaussianNB</td>\n",
       "      <td>0.64</td>\n",
       "      <td>0.63</td>\n",
       "      <td>0.66</td>\n",
       "      <td>0.01</td>\n",
       "    </tr>\n",
       "    <tr>\n",
       "      <th>11</th>\n",
       "      <td>LDA</td>\n",
       "      <td>0.61</td>\n",
       "      <td>0.60</td>\n",
       "      <td>0.62</td>\n",
       "      <td>0.01</td>\n",
       "    </tr>\n",
       "    <tr>\n",
       "      <th>12</th>\n",
       "      <td>ExtraTrees</td>\n",
       "      <td>0.61</td>\n",
       "      <td>0.59</td>\n",
       "      <td>0.62</td>\n",
       "      <td>0.01</td>\n",
       "    </tr>\n",
       "  </tbody>\n",
       "</table>\n",
       "</div>"
      ]
     },
     "execution_count": 29,
     "metadata": {},
     "output_type": "execute_result"
    }
   ],
   "execution_count": 29
  },
  {
   "metadata": {},
   "cell_type": "code",
   "outputs": [],
   "execution_count": null,
   "source": "",
   "id": "ba771ac87894ae08"
  }
 ],
 "metadata": {
  "kernelspec": {
   "display_name": "Python 3",
   "language": "python",
   "name": "python3"
  },
  "language_info": {
   "codemirror_mode": {
    "name": "ipython",
    "version": 2
   },
   "file_extension": ".py",
   "mimetype": "text/x-python",
   "name": "python",
   "nbconvert_exporter": "python",
   "pygments_lexer": "ipython2",
   "version": "2.7.6"
  }
 },
 "nbformat": 4,
 "nbformat_minor": 5
}
