{
 "cells": [
  {
   "metadata": {},
   "cell_type": "markdown",
   "source": "# Ensemble Models",
   "id": "fd7bb97bac8d9e8b"
  },
  {
   "metadata": {},
   "cell_type": "markdown",
   "source": "Для ансамблирования моделей используем CatBoost, LightGBM, Logistic Regression, Random Forest и LDA. В качестве метамодели в ансамблях, где это требуется, будем использовать XGBoost.",
   "id": "49ba4f4c707a740d"
  },
  {
   "cell_type": "code",
   "id": "initial_id",
   "metadata": {
    "collapsed": true,
    "ExecuteTime": {
     "end_time": "2025-04-04T18:04:57.202475Z",
     "start_time": "2025-04-04T18:04:56.644798Z"
    }
   },
   "source": [
    "import pandas as pd\n",
    "\n",
    "from src.ml_models.ModelEvaluator.main.core import ModelEvaluator"
   ],
   "outputs": [],
   "execution_count": 1
  },
  {
   "metadata": {
    "ExecuteTime": {
     "end_time": "2025-04-04T18:04:57.250117Z",
     "start_time": "2025-04-04T18:04:57.207659Z"
    }
   },
   "cell_type": "code",
   "source": "train_data = pd.read_csv('../../data/data_after_Feature_Selection/train_selected.csv')",
   "id": "3f15dba2012dc066",
   "outputs": [],
   "execution_count": 2
  },
  {
   "metadata": {
    "ExecuteTime": {
     "end_time": "2025-04-04T18:04:57.517090Z",
     "start_time": "2025-04-04T18:04:57.504485Z"
    }
   },
   "cell_type": "code",
   "source": [
    "evaluator = ModelEvaluator(\n",
    "    train_data,\n",
    "    target_column='target',\n",
    "    random_state=42\n",
    ")"
   ],
   "id": "8cca4e2eca8f7e03",
   "outputs": [],
   "execution_count": 3
  },
  {
   "metadata": {
    "ExecuteTime": {
     "end_time": "2025-04-04T18:06:33.546452Z",
     "start_time": "2025-04-04T18:04:57.535596Z"
    }
   },
   "cell_type": "code",
   "source": [
    "ensemble_config = {\n",
    "    'Stacking': {\n",
    "        'base_models': {\n",
    "            'CatBoost': {'silent': True, 'random_state': 42},\n",
    "            'LightGBM': {'verbosity': -1, 'random_state': 42},\n",
    "            'LogisticRegression': {'random_state': 42},\n",
    "            'RandomForest': {'random_state': 42},\n",
    "            'LDA': {},\n",
    "        },\n",
    "        'meta_model': {\n",
    "            'XGBoost': {'random_state': 42},\n",
    "        },\n",
    "        'cv_method': 'Stratified'\n",
    "    },\n",
    "    'Blending': {\n",
    "        'base_models': {\n",
    "            'CatBoost': {'silent': True, 'random_state': 42},\n",
    "            'LightGBM': {'verbosity': -1, 'random_state': 42},\n",
    "            'LogisticRegression': {'random_state': 42},\n",
    "            'RandomForest': {'random_state': 42},\n",
    "            'LDA': {},\n",
    "        },\n",
    "        'meta_model': {\n",
    "            'XGBoost': {'random_state': 42},\n",
    "        }\n",
    "    },\n",
    "    'Voting': {\n",
    "        'base_models': {\n",
    "            'CatBoost': {'silent': True, 'random_state': 42},\n",
    "            'LightGBM': {'verbosity': -1, 'random_state': 42},\n",
    "            'LogisticRegression': {'random_state': 42},\n",
    "            'RandomForest': {'random_state': 42},\n",
    "            'LDA': {},\n",
    "        },\n",
    "        'voting_type': 'soft',\n",
    "        'custom_name': 'Soft Voting',\n",
    "    },\n",
    "    'Bagging': {\n",
    "        'base_model': {\n",
    "            'CatBoost': {'silent': True, 'random_state': 42},\n",
    "            'LightGBM': {'verbosity': -1, 'random_state': 42},\n",
    "            'LogisticRegression': {'random_state': 42},\n",
    "            'RandomForest': {'random_state': 42},\n",
    "            'LDA': {},\n",
    "        }\n",
    "    }\n",
    "}\n",
    "\n",
    "ensemble_results = evaluator.evaluate_ensembles(\n",
    "    ensemble_config=ensemble_config\n",
    ")\n",
    "\n",
    "ensemble_results"
   ],
   "id": "fb0f0e20b27b1fd",
   "outputs": [
    {
     "name": "stdout",
     "output_type": "stream",
     "text": [
      "------------------------------------------------------------------------\n",
      "                    Проверка конфликтов и ошибок...                     \n",
      "                                Успешно!                                \n",
      "------------------------------------------------------------------------\n",
      "\n",
      "------------------------------------------------------------------------\n",
      "                  Применение методов ансамблирования:                   \n",
      "------------------------------------------------------------------------\n",
      "                              Stacking...                               \n",
      "    Среднее значение метрики:  0.63\n",
      "    Минимальное значение:     0.61\n",
      "    Максимальное значение:    0.66\n",
      "    Стандартное отклонение:   0.02\n",
      "------------------------------------------------------------------------\n",
      "                              Blending...                               \n",
      "    Среднее значение метрики:  0.59\n",
      "    Минимальное значение:     N/A\n",
      "    Максимальное значение:    N/A\n",
      "    Стандартное отклонение:   N/A\n",
      "------------------------------------------------------------------------\n",
      "                               Bagging...                               \n",
      "    Среднее значение метрики:  0.77\n",
      "    Минимальное значение:     N/A\n",
      "    Максимальное значение:    N/A\n",
      "    Стандартное отклонение:   N/A\n",
      "------------------------------------------------------------------------\n",
      "                               Voting...                                \n",
      "    Среднее значение метрики:  0.61\n",
      "    Минимальное значение:     0.59\n",
      "    Максимальное значение:    0.62\n",
      "    Стандартное отклонение:   0.01\n",
      "\n",
      "------------------------------------------------------------------------\n",
      "                  Итоговые результаты ансамблирования                   \n",
      "------------------------------------------------------------------------\n",
      "\n"
     ]
    },
    {
     "data": {
      "text/plain": [
       "  Ensemble_Type  Avg_Score Min_Score Max_Score Std_Score\n",
       "0      Stacking       0.63      0.61      0.66      0.02\n",
       "1      Blending       0.59       N/A       N/A       N/A\n",
       "2       Bagging       0.77       N/A       N/A       N/A\n",
       "3   Soft Voting       0.61      0.59      0.62      0.01"
      ],
      "text/html": [
       "<div>\n",
       "<style scoped>\n",
       "    .dataframe tbody tr th:only-of-type {\n",
       "        vertical-align: middle;\n",
       "    }\n",
       "\n",
       "    .dataframe tbody tr th {\n",
       "        vertical-align: top;\n",
       "    }\n",
       "\n",
       "    .dataframe thead th {\n",
       "        text-align: right;\n",
       "    }\n",
       "</style>\n",
       "<table border=\"1\" class=\"dataframe\">\n",
       "  <thead>\n",
       "    <tr style=\"text-align: right;\">\n",
       "      <th></th>\n",
       "      <th>Ensemble_Type</th>\n",
       "      <th>Avg_Score</th>\n",
       "      <th>Min_Score</th>\n",
       "      <th>Max_Score</th>\n",
       "      <th>Std_Score</th>\n",
       "    </tr>\n",
       "  </thead>\n",
       "  <tbody>\n",
       "    <tr>\n",
       "      <th>0</th>\n",
       "      <td>Stacking</td>\n",
       "      <td>0.63</td>\n",
       "      <td>0.61</td>\n",
       "      <td>0.66</td>\n",
       "      <td>0.02</td>\n",
       "    </tr>\n",
       "    <tr>\n",
       "      <th>1</th>\n",
       "      <td>Blending</td>\n",
       "      <td>0.59</td>\n",
       "      <td>N/A</td>\n",
       "      <td>N/A</td>\n",
       "      <td>N/A</td>\n",
       "    </tr>\n",
       "    <tr>\n",
       "      <th>2</th>\n",
       "      <td>Bagging</td>\n",
       "      <td>0.77</td>\n",
       "      <td>N/A</td>\n",
       "      <td>N/A</td>\n",
       "      <td>N/A</td>\n",
       "    </tr>\n",
       "    <tr>\n",
       "      <th>3</th>\n",
       "      <td>Soft Voting</td>\n",
       "      <td>0.61</td>\n",
       "      <td>0.59</td>\n",
       "      <td>0.62</td>\n",
       "      <td>0.01</td>\n",
       "    </tr>\n",
       "  </tbody>\n",
       "</table>\n",
       "</div>"
      ]
     },
     "execution_count": 4,
     "metadata": {},
     "output_type": "execute_result"
    }
   ],
   "execution_count": 4
  },
  {
   "metadata": {
    "ExecuteTime": {
     "end_time": "2025-04-04T18:06:33.828904Z",
     "start_time": "2025-04-04T18:06:33.814903Z"
    }
   },
   "cell_type": "code",
   "source": "",
   "id": "6293b7a754a2aee3",
   "outputs": [],
   "execution_count": null
  }
 ],
 "metadata": {
  "kernelspec": {
   "display_name": "Python 3",
   "language": "python",
   "name": "python3"
  },
  "language_info": {
   "codemirror_mode": {
    "name": "ipython",
    "version": 2
   },
   "file_extension": ".py",
   "mimetype": "text/x-python",
   "name": "python",
   "nbconvert_exporter": "python",
   "pygments_lexer": "ipython2",
   "version": "2.7.6"
  }
 },
 "nbformat": 4,
 "nbformat_minor": 5
}
