{
 "cells": [
  {
   "metadata": {},
   "cell_type": "markdown",
   "source": "# Pipeline",
   "id": "7b7e0918bf4440dc"
  },
  {
   "cell_type": "code",
   "id": "initial_id",
   "metadata": {
    "collapsed": true,
    "ExecuteTime": {
     "end_time": "2025-04-05T17:31:30.330217Z",
     "start_time": "2025-04-05T17:31:30.317706Z"
    }
   },
   "source": [
    "import pandas as pd\n",
    "import numpy as np\n",
    "from scipy.special import boxcox1p\n",
    "import joblib"
   ],
   "outputs": [],
   "execution_count": 179
  },
  {
   "metadata": {
    "ExecuteTime": {
     "end_time": "2025-04-05T17:31:30.392539Z",
     "start_time": "2025-04-05T17:31:30.350228Z"
    }
   },
   "cell_type": "code",
   "source": "data = pd.read_csv('../../data/raw_data/new_data_csv.csv')",
   "id": "2ae85bb2a06ac06e",
   "outputs": [],
   "execution_count": 180
  },
  {
   "metadata": {
    "ExecuteTime": {
     "end_time": "2025-04-05T17:31:30.470372Z",
     "start_time": "2025-04-05T17:31:30.441511Z"
    }
   },
   "cell_type": "code",
   "source": [
    "if 'target' in data.columns:\n",
    "    data = data.drop(columns=['target'])\n",
    "\n",
    "data = data.drop_duplicates()\n",
    "\n",
    "data = data.drop('ID', axis=1)\n",
    "\n",
    "data['sex'] = data['sex'].fillna('M')\n",
    "\n",
    "data['VIP'] = data['VIP'].fillna('Обычный клиент')\n",
    "\n",
    "# Так как строки удалять нельзя, то заменим -100 на модальное значение\n",
    "data['delta_kbm'] = data['delta_kbm'].replace(-100, data['delta_kbm'].mode()[0])"
   ],
   "id": "e47c3bf8d17aa241",
   "outputs": [],
   "execution_count": 181
  },
  {
   "metadata": {
    "ExecuteTime": {
     "end_time": "2025-04-05T17:31:30.533096Z",
     "start_time": "2025-04-05T17:31:30.520895Z"
    }
   },
   "cell_type": "code",
   "source": [
    "lambda_df = pd.read_csv('../../data/data_after_EDA/lambda_values_box-cox.csv')\n",
    "lambda_dict = lambda_df.set_index('feature')['lambda'].to_dict()\n",
    "\n",
    "# Преобразование Box-Cox числовых признаков\n",
    "for col in data.select_dtypes(include=np.number).columns:\n",
    "    if col in lambda_dict:\n",
    "        data[col] = boxcox1p(data[col], lambda_dict[col])"
   ],
   "id": "34b99202eff0f6d1",
   "outputs": [],
   "execution_count": 182
  },
  {
   "metadata": {
    "ExecuteTime": {
     "end_time": "2025-04-05T17:31:30.690598Z",
     "start_time": "2025-04-05T17:31:30.583331Z"
    }
   },
   "cell_type": "code",
   "source": [
    "# Преобразование категориальных признаков\n",
    "alpha = 1\n",
    "raw_data = pd.read_csv('../../data/raw_data/full_train_data_csv.csv')\n",
    "global_mean = raw_data['target'].mean()\n",
    "\n",
    "cat_cols = data.select_dtypes(exclude=np.number).columns.tolist()\n",
    "\n",
    "for col in cat_cols:\n",
    "    category_stats = raw_data.groupby(col)['target'].agg(['count', 'mean'])\n",
    "    category_stats['smoothed_value'] = (\n",
    "        (category_stats['count'] * category_stats['mean'] + alpha * global_mean) \n",
    "        / (category_stats['count'] + alpha)\n",
    "    )\n",
    "    smoothing_map = category_stats['smoothed_value'].to_dict()\n",
    "    data[col] = data[col].map(smoothing_map)\n",
    "    data[col] = data[col].fillna(global_mean)"
   ],
   "id": "ad46d18291c2628",
   "outputs": [],
   "execution_count": 183
  },
  {
   "metadata": {
    "ExecuteTime": {
     "end_time": "2025-04-05T17:31:30.752591Z",
     "start_time": "2025-04-05T17:31:30.740357Z"
    }
   },
   "cell_type": "code",
   "source": [
    "data.columns = [f\"{col}\".replace(' ', '').replace('-', '_') for col in data.columns]\n",
    "data.columns = [f\"{col}_encoded\" for col in data.columns]"
   ],
   "id": "522bd1a4e773c1b7",
   "outputs": [],
   "execution_count": 184
  },
  {
   "metadata": {
    "ExecuteTime": {
     "end_time": "2025-04-05T17:31:30.829409Z",
     "start_time": "2025-04-05T17:31:30.800892Z"
    }
   },
   "cell_type": "code",
   "source": [
    "# Создаем новые признаки\n",
    "feature_templates = [\n",
    "    'married_encoded_addition_Filial_encoded',\n",
    "    'deduct_encoded_addition_GAP_encoded',\n",
    "    'passport_region_encoded_multiplication_price_prc',\n",
    "    'Model_encoded_div_Age',\n",
    "    'Filial_encoded_subtraction_product_encoded',\n",
    "    'product_encoded_subtraction_Bank_encoded',\n",
    "    'Yr_production_div_channel_map_encoded',\n",
    "    'KBM_multiplication_Bank_encoded',\n",
    "    'product_encoded_addition_passport_region_encoded',\n",
    "    'married_encoded_div_Yr_production',\n",
    "    'GAP_encoded_multiplication_deduct_encoded',\n",
    "    'product_encoded_div_Bank_encoded',\n",
    "    'Bank_encoded_div_KBM',\n",
    "    'sex_encoded_multiplication_Model_encoded',\n",
    "    'product_encoded_subtraction_category_encoded',\n",
    "    'Bank_encoded_addition_category_encoded'\n",
    "]\n",
    "\n",
    "operations = {\n",
    "    'addition': lambda a, b: a + b,\n",
    "    'subtraction': lambda a, b: a - b,\n",
    "    'multiplication': lambda a, b: a * b,\n",
    "    'div': lambda a, b: a / b.replace(0, np.nan)\n",
    "}\n",
    "\n",
    "for feature_name in feature_templates:\n",
    "    for op in operations:\n",
    "        if f\"_{op}_\" in feature_name:\n",
    "            left_part, right_part = feature_name.split(f\"_{op}_\")\n",
    "            \n",
    "            # Поиск левой колонки\n",
    "            left_col = None\n",
    "            for possible in [left_part, f\"{left_part}_encoded\"]:\n",
    "                if possible in data.columns:\n",
    "                    left_col = possible\n",
    "                    break\n",
    "            \n",
    "            # Поиск правой колонки\n",
    "            right_col = None\n",
    "            for possible in [right_part, f\"{right_part}_encoded\"]:\n",
    "                if possible in data.columns:\n",
    "                    right_col = possible\n",
    "                    break\n",
    "            \n",
    "            if left_col and right_col:\n",
    "                if op == 'div':\n",
    "                    data[feature_name] = (data[left_col] / data[right_col].replace(0, np.nan)).fillna(0)\n",
    "                else:\n",
    "                    data[feature_name] = operations[op](data[left_col], data[right_col])\n",
    "            break\n",
    "\n",
    "existing_features = [f for f in feature_templates if f in data.columns]\n",
    "data = data[existing_features]"
   ],
   "id": "4c484aec40b62607",
   "outputs": [],
   "execution_count": 185
  },
  {
   "metadata": {
    "ExecuteTime": {
     "end_time": "2025-04-05T17:31:30.953772Z",
     "start_time": "2025-04-05T17:31:30.877554Z"
    }
   },
   "cell_type": "code",
   "source": [
    "model = joblib.load('../../models/03_final_model/LogisticRegression.pkl')\n",
    "predictions = model.predict(data)\n",
    "\n",
    "new_data = pd.read_csv('../../data/raw_data/new_data_csv.csv')\n",
    "new_data['target'] = predictions\n",
    "new_data.to_csv('../../data/new_data_preds/new_data_with_targets.csv', index=False)"
   ],
   "id": "a43e1a1fc29b4d86",
   "outputs": [],
   "execution_count": 186
  }
 ],
 "metadata": {
  "kernelspec": {
   "display_name": "Python 3",
   "language": "python",
   "name": "python3"
  },
  "language_info": {
   "codemirror_mode": {
    "name": "ipython",
    "version": 2
   },
   "file_extension": ".py",
   "mimetype": "text/x-python",
   "name": "python",
   "nbconvert_exporter": "python",
   "pygments_lexer": "ipython2",
   "version": "2.7.6"
  }
 },
 "nbformat": 4,
 "nbformat_minor": 5
}
